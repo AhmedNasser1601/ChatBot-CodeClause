{
 "cells": [
  {
   "cell_type": "markdown",
   "metadata": {
    "id": "vJw9YSMSl4Cw"
   },
   "source": [
    "# ***Name: Ahmed Nasser Ahmed Hassan***\n",
    "> **CodeClause |> *Sep/2022***\n",
    ">> **Data Science Intern |> *CC-OL-911***\n",
    ">>> **Task3 >> *ChatBot for CodeClause***\n",
    "---"
   ]
  },
  {
   "cell_type": "markdown",
   "metadata": {
    "id": "RGgarrW2rCr_"
   },
   "source": [
    "> ### |> ***Import Packages***"
   ]
  },
  {
   "cell_type": "code",
   "execution_count": 1,
   "metadata": {
    "id": "QNG-Tq_97Sbw",
    "scrolled": false
   },
   "outputs": [
    {
     "name": "stderr",
     "output_type": "stream",
     "text": [
      "[nltk_data] Downloading package punkt to C:\\Users\\Ahmed\n",
      "[nltk_data]     Nasser\\AppData\\Roaming\\nltk_data...\n",
      "[nltk_data]   Package punkt is already up-to-date!\n",
      "[nltk_data] Downloading package wordnet to C:\\Users\\Ahmed\n",
      "[nltk_data]     Nasser\\AppData\\Roaming\\nltk_data...\n",
      "[nltk_data]   Package wordnet is already up-to-date!\n",
      "[nltk_data] Downloading package omw-1.4 to C:\\Users\\Ahmed\n",
      "[nltk_data]     Nasser\\AppData\\Roaming\\nltk_data...\n",
      "[nltk_data]   Package omw-1.4 is already up-to-date!\n"
     ]
    }
   ],
   "source": [
    "import numpy as np\n",
    "import json\n",
    "import random\n",
    "import pickle\n",
    "\n",
    "import nltk\n",
    "nltk.download('punkt')\n",
    "nltk.download('wordnet')\n",
    "nltk.download('omw-1.4')\n",
    "\n",
    "from nltk.stem import WordNetLemmatizer\n",
    "\n",
    "from keras.models import Sequential\n",
    "from keras.layers import Dense, Activation, Dropout\n",
    "from keras.models import load_model\n",
    "\n",
    "from keras.optimizers import SGD\n",
    "\n",
    "import tkinter\n",
    "from tkinter import *"
   ]
  },
  {
   "cell_type": "markdown",
   "metadata": {
    "id": "zlOwZWCWrL62"
   },
   "source": [
    "> ### |> ***Load \"Intents\" Json***"
   ]
  },
  {
   "cell_type": "code",
   "execution_count": 2,
   "metadata": {
    "id": "XDb4wS4LWrmU"
   },
   "outputs": [],
   "source": [
    "intents_JsonFile = '''\n",
    "{\n",
    "  \"intents\": [\n",
    "    {\n",
    "      \"tag\": \"greeting\",\n",
    "      \"patterns\": [\n",
    "        \"Hi there\",\n",
    "        \"How are you\",\n",
    "        \"Is anyone there?\",\n",
    "        \"Hey\",\n",
    "        \"Hola\",\n",
    "        \"Hello\",\n",
    "        \"Good day\"\n",
    "      ],\n",
    "      \"responses\": [\n",
    "        \"Hello, thanks for asking\",\n",
    "        \"Good to see you again\",\n",
    "        \"Hi there, how can I help?\"\n",
    "      ],\n",
    "      \"context\": [\n",
    "        \"\"\n",
    "      ]\n",
    "    },\n",
    "    {\n",
    "      \"tag\": \"goodbye\",\n",
    "      \"patterns\": [\n",
    "        \"Bye\",\n",
    "        \"See you later\",\n",
    "        \"Goodbye\",\n",
    "        \"Nice chatting to you, bye\",\n",
    "        \"Till next time\"\n",
    "      ],\n",
    "      \"responses\": [\n",
    "        \"See you!\",\n",
    "        \"Have a nice day\",\n",
    "        \"Bye! Come back again soon.\"\n",
    "      ],\n",
    "      \"context\": [\n",
    "        \"\"\n",
    "      ]\n",
    "    },\n",
    "    {\n",
    "      \"tag\": \"thanks\",\n",
    "      \"patterns\": [\n",
    "        \"Thanks\",\n",
    "        \"Thank you\",\n",
    "        \"That's helpful\",\n",
    "        \"Awesome, thanks\",\n",
    "        \"Thanks for helping me\"\n",
    "      ],\n",
    "      \"responses\": [\n",
    "        \"Happy to help!\",\n",
    "        \"Any time!\",\n",
    "        \"My pleasure\"\n",
    "      ],\n",
    "      \"context\": [\n",
    "        \"\"\n",
    "      ]\n",
    "    },\n",
    "    {\n",
    "      \"tag\": \"noanswer\",\n",
    "      \"patterns\": [],\n",
    "      \"responses\": [\n",
    "        \"Sorry, can't understand you\",\n",
    "        \"Please give me more info\",\n",
    "        \"Not sure I understand\"\n",
    "      ],\n",
    "      \"context\": [\n",
    "        \"\"\n",
    "      ]\n",
    "    },\n",
    "    {\n",
    "      \"tag\": \"codeclause\",\n",
    "      \"patterns\": [\n",
    "        \"About codeclause\",\n",
    "        \"What is codeclause?\",\n",
    "        \"Services offered\",\n",
    "        \"What is codeclause internship?\",\n",
    "        \"codeclause\"\n",
    "      ],\n",
    "      \"responses\": [\n",
    "        \"We offer reliable, efficient delivery with high-caliber engineers & finely-tuned software development processes.We Believe In Leadership to lead the technology to build a better future Integrity to follow truth and be real Accountability for our every commitment. We Imagine & We Engineer & We Modernize & We Manage. We also provide internships in various domains, checkout our website codeclause.com for more info\",\n",
    "        \"At CodeClause, we endeavor to provide a formidable platform for professionals who will be our change agents - catalysts who will be torchbearers of CodeClause’s fortitude to excel and redefine limits of technology to make our clients successful. We also provide internships in various domains, checkout our website codeclause.com for more info\"\n",
    "      ],\n",
    "      \"context\": [\n",
    "        \"\"\n",
    "      ]\n",
    "    },\n",
    "    {\n",
    "      \"tag\": \"options\",\n",
    "      \"patterns\": [\n",
    "        \"How you could help me?\",\n",
    "        \"What you can do?\",\n",
    "        \"What help you provide?\",\n",
    "        \"How you can be helpful?\",\n",
    "        \"What support is offered\"\n",
    "      ],\n",
    "      \"responses\": [\n",
    "        \"I can give you info about the services and internships provided by codeclause.com\",\n",
    "        \"We can provide you internships in various domains, We have internships in -> Data Analytics & Automation AI & Internet of Things (IoT) & Software Development & Web Development & App Development\",\n",
    "        \"Offering internships and services in -> Data Analytics & Automation AI & Internet of Things (IoT) & Software Development & Web Development & App Development\"\n",
    "      ],\n",
    "      \"context\": [\n",
    "        \"\"\n",
    "      ]\n",
    "    },\n",
    "    {\n",
    "      \"tag\": \"Internship\",\n",
    "      \"patterns\": [\n",
    "        \"How to apply for the internship?\",\n",
    "        \"Where to apply for internship?\",\n",
    "        \"Internships offered\"\n",
    "      ],\n",
    "      \"responses\": [\n",
    "        \"Please visit the website at https://codeclause.com/careers.html to apply for internships. We have internships in -> Data Analytics & Automation AI & Internet of Things (IoT) & Software Development & Web Development & App Development\"\n",
    "      ],\n",
    "      \"context\": [\n",
    "        \"\"\n",
    "      ]\n",
    "    },\n",
    "    {\n",
    "      \"tag\": \"offer_letter\",\n",
    "      \"patterns\": [\n",
    "        \"Applied for internship\",\n",
    "        \"I have applied for internship\",\n",
    "        \"When will I receieve my offer letter?\",\n",
    "        \"offer letter not recieved\"\n",
    "      ],\n",
    "      \"responses\": [\n",
    "        \"You will get your offer letter on mail around starting week of the month for which you've applied for the internship\"\n",
    "      ],\n",
    "      \"context\": [\n",
    "        \"\"\n",
    "      ]\n",
    "    }\n",
    "  ]\n",
    "}\n",
    "'''"
   ]
  },
  {
   "cell_type": "code",
   "execution_count": 3,
   "metadata": {
    "id": "GNhKp7jWrnff"
   },
   "outputs": [],
   "source": [
    "with open(\"intents.json\", \"w\") as outfile:\n",
    "  outfile.write(intents_JsonFile)\n",
    "\n",
    "intents = json.loads(open('intents.json').read())"
   ]
  },
  {
   "cell_type": "markdown",
   "metadata": {
    "id": "YuddsZreo8c1"
   },
   "source": [
    "---\n",
    "\n",
    "> ### |> ***Processing Dictionaries***"
   ]
  },
  {
   "cell_type": "code",
   "execution_count": 4,
   "metadata": {
    "id": "PS4dyXP579ht"
   },
   "outputs": [],
   "source": [
    "words = []\n",
    "classes = []\n",
    "documents = []\n",
    "ignore_words = ['?', '!']\n",
    "\n",
    "for intent in intents['intents']:\n",
    "  for pattern in intent['patterns']:\n",
    "    w = nltk.word_tokenize(pattern)\n",
    "    words.extend(w)\n",
    "    documents.append((w, intent['tag']))\n",
    "\n",
    "    if intent['tag'] not in classes:\n",
    "      classes.append(intent['tag'])\n",
    "\n",
    "words = [WordNetLemmatizer().lemmatize(w.lower()) for w in words if w not in ignore_words]\n",
    "\n",
    "words = sorted(list(set(words)))\n",
    "classes = sorted(list(set(classes)))"
   ]
  },
  {
   "cell_type": "code",
   "execution_count": 5,
   "metadata": {
    "id": "zF37sBJ1_Jh8"
   },
   "outputs": [
    {
     "name": "stdout",
     "output_type": "stream",
     "text": [
      "59  Word (uniques)\n",
      " [\"'s\", ',', 'about', 'anyone', 'applied', 'apply', 'are', 'awesome', 'be', 'bye', 'can', 'chatting', 'codeclause', 'could', 'day', 'do', 'for', 'good', 'goodbye', 'have', 'hello', 'help', 'helpful', 'helping', 'hey', 'hi', 'hola', 'how', 'i', 'internship', 'is', 'later', 'letter', 'me', 'my', 'next', 'nice', 'not', 'offer', 'offered', 'provide', 'receieve', 'recieved', 'see', 'service', 'support', 'thank', 'thanks', 'that', 'the', 'there', 'till', 'time', 'to', 'what', 'when', 'where', 'will', 'you'] \n",
      "\n",
      "\n",
      "7  Class (tags)\n",
      " ['Internship', 'codeclause', 'goodbye', 'greeting', 'offer_letter', 'options', 'thanks'] \n",
      "\n",
      "\n",
      "34  Document (coubles)\n",
      " [(['Hi', 'there'], 'greeting'), (['How', 'are', 'you'], 'greeting'), (['Is', 'anyone', 'there', '?'], 'greeting'), (['Hey'], 'greeting'), (['Hola'], 'greeting'), (['Hello'], 'greeting'), (['Good', 'day'], 'greeting'), (['Bye'], 'goodbye'), (['See', 'you', 'later'], 'goodbye'), (['Goodbye'], 'goodbye'), (['Nice', 'chatting', 'to', 'you', ',', 'bye'], 'goodbye'), (['Till', 'next', 'time'], 'goodbye'), (['Thanks'], 'thanks'), (['Thank', 'you'], 'thanks'), (['That', \"'s\", 'helpful'], 'thanks'), (['Awesome', ',', 'thanks'], 'thanks'), (['Thanks', 'for', 'helping', 'me'], 'thanks'), (['About', 'codeclause'], 'codeclause'), (['What', 'is', 'codeclause', '?'], 'codeclause'), (['Services', 'offered'], 'codeclause'), (['What', 'is', 'codeclause', 'internship', '?'], 'codeclause'), (['codeclause'], 'codeclause'), (['How', 'you', 'could', 'help', 'me', '?'], 'options'), (['What', 'you', 'can', 'do', '?'], 'options'), (['What', 'help', 'you', 'provide', '?'], 'options'), (['How', 'you', 'can', 'be', 'helpful', '?'], 'options'), (['What', 'support', 'is', 'offered'], 'options'), (['How', 'to', 'apply', 'for', 'the', 'internship', '?'], 'Internship'), (['Where', 'to', 'apply', 'for', 'internship', '?'], 'Internship'), (['Internships', 'offered'], 'Internship'), (['Applied', 'for', 'internship'], 'offer_letter'), (['I', 'have', 'applied', 'for', 'internship'], 'offer_letter'), (['When', 'will', 'I', 'receieve', 'my', 'offer', 'letter', '?'], 'offer_letter'), (['offer', 'letter', 'not', 'recieved'], 'offer_letter')]\n"
     ]
    }
   ],
   "source": [
    "print(len(words), ' Word (uniques)\\n', words, '\\n\\n')\n",
    "print(len(classes), ' Class (tags)\\n', classes, '\\n\\n')\n",
    "print(len(documents), ' Document (coubles)\\n', documents)"
   ]
  },
  {
   "cell_type": "code",
   "execution_count": 6,
   "metadata": {
    "id": "uLWnqY1mMU5J"
   },
   "outputs": [],
   "source": [
    "output_empty = [0] *len(classes)\n",
    "training = []\n",
    "\n",
    "for doc in documents:\n",
    "    bag = []\n",
    "    pattern_words = doc[0]\n",
    "\n",
    "    for word in pattern_words:\n",
    "      pattern_words = WordNetLemmatizer().lemmatize(word.lower())\n",
    "\n",
    "    for w in words:\n",
    "      if w in pattern_words:\n",
    "        bag.append(1)\n",
    "      else:\n",
    "        bag.append(0)\n",
    "\n",
    "    output_row = list(output_empty)\n",
    "    output_row[classes.index(doc[1])] = 1\n",
    "\n",
    "    training.append([bag, output_row])"
   ]
  },
  {
   "cell_type": "code",
   "execution_count": 7,
   "metadata": {
    "id": "sXow17RLNLqH",
    "scrolled": false
   },
   "outputs": [
    {
     "name": "stderr",
     "output_type": "stream",
     "text": [
      "C:\\Users\\Ahmed Nasser\\AppData\\Local\\Temp\\ipykernel_37880\\1171096522.py:2: VisibleDeprecationWarning: Creating an ndarray from ragged nested sequences (which is a list-or-tuple of lists-or-tuples-or ndarrays with different lengths or shapes) is deprecated. If you meant to do this, you must specify 'dtype=object' when creating the ndarray.\n",
      "  training = np.array(training)\n"
     ]
    },
    {
     "data": {
      "text/plain": [
       "array([[list([0, 0, 0, 0, 0, 0, 0, 0, 0, 0, 0, 0, 0, 0, 0, 0, 0, 0, 0, 0, 0, 0, 0, 0, 0, 0, 0, 0, 0, 0, 0, 0, 0, 0, 0, 0, 0, 0, 1, 1, 0, 0, 0, 0, 0, 0, 0, 0, 0, 0, 0, 0, 0, 0, 0, 0, 0, 0, 0]),\n",
       "        list([1, 0, 0, 0, 0, 0, 0])],\n",
       "       [list([0, 0, 0, 0, 0, 0, 0, 0, 0, 0, 0, 0, 0, 0, 0, 0, 0, 0, 0, 0, 0, 0, 0, 0, 0, 0, 1, 0, 0, 0, 0, 0, 0, 0, 0, 0, 0, 0, 0, 0, 0, 0, 0, 0, 0, 0, 0, 0, 0, 0, 0, 0, 0, 0, 0, 0, 0, 0, 0]),\n",
       "        list([0, 0, 0, 1, 0, 0, 0])],\n",
       "       [list([0, 0, 0, 0, 0, 0, 0, 0, 0, 0, 0, 0, 0, 0, 0, 0, 0, 0, 0, 0, 0, 0, 0, 0, 0, 0, 0, 0, 1, 0, 0, 0, 0, 1, 0, 0, 0, 0, 0, 0, 0, 0, 0, 0, 0, 0, 0, 0, 0, 0, 0, 0, 1, 0, 0, 0, 0, 0, 0]),\n",
       "        list([0, 0, 1, 0, 0, 0, 0])],\n",
       "       [list([0, 0, 0, 0, 0, 0, 0, 0, 0, 0, 0, 0, 0, 0, 0, 0, 0, 0, 0, 0, 0, 0, 0, 0, 0, 0, 0, 0, 0, 0, 0, 0, 0, 0, 0, 0, 0, 0, 0, 0, 0, 0, 0, 0, 0, 0, 1, 1, 0, 0, 0, 0, 0, 0, 0, 0, 0, 0, 0]),\n",
       "        list([0, 0, 0, 0, 0, 0, 1])],\n",
       "       [list([0, 0, 0, 0, 0, 0, 0, 0, 0, 1, 0, 0, 0, 0, 0, 0, 0, 1, 1, 0, 0, 0, 0, 0, 0, 0, 0, 0, 0, 0, 0, 0, 0, 0, 0, 0, 0, 0, 0, 0, 0, 0, 0, 0, 0, 0, 0, 0, 0, 0, 0, 0, 0, 0, 0, 0, 0, 0, 0]),\n",
       "        list([0, 0, 1, 0, 0, 0, 0])],\n",
       "       [list([0, 0, 0, 0, 0, 0, 0, 0, 0, 0, 0, 0, 0, 0, 0, 0, 0, 0, 0, 0, 0, 0, 0, 0, 0, 0, 0, 0, 0, 0, 0, 0, 0, 0, 0, 0, 0, 0, 0, 0, 0, 0, 0, 0, 0, 0, 0, 0, 0, 0, 0, 0, 0, 0, 0, 0, 0, 0, 0]),\n",
       "        list([0, 1, 0, 0, 0, 0, 0])],\n",
       "       [list([0, 0, 0, 0, 0, 0, 0, 0, 0, 0, 0, 0, 0, 0, 0, 0, 0, 0, 0, 0, 0, 0, 0, 0, 0, 0, 0, 0, 0, 0, 0, 0, 0, 1, 0, 0, 0, 0, 0, 0, 0, 0, 0, 0, 0, 0, 0, 0, 0, 0, 0, 0, 0, 0, 0, 0, 0, 0, 0]),\n",
       "        list([0, 0, 0, 0, 0, 0, 1])],\n",
       "       [list([0, 0, 0, 0, 0, 0, 0, 0, 0, 0, 0, 0, 0, 0, 0, 0, 0, 0, 0, 0, 0, 0, 0, 0, 0, 0, 0, 0, 0, 0, 0, 0, 0, 0, 0, 0, 0, 0, 0, 0, 0, 0, 0, 0, 0, 0, 0, 0, 0, 0, 0, 0, 0, 0, 0, 0, 0, 0, 1]),\n",
       "        list([0, 0, 0, 0, 0, 0, 1])],\n",
       "       [list([0, 0, 0, 0, 0, 0, 0, 0, 0, 0, 0, 0, 0, 0, 0, 0, 0, 0, 0, 0, 0, 0, 0, 0, 0, 0, 0, 0, 1, 0, 0, 0, 0, 0, 0, 0, 0, 0, 0, 0, 0, 0, 1, 0, 0, 0, 0, 0, 0, 0, 0, 0, 0, 0, 0, 0, 0, 0, 0]),\n",
       "        list([0, 0, 0, 0, 1, 0, 0])],\n",
       "       [list([0, 0, 0, 0, 0, 0, 0, 0, 0, 0, 0, 0, 0, 0, 0, 0, 0, 0, 0, 0, 0, 0, 0, 0, 0, 0, 0, 0, 0, 0, 0, 0, 0, 0, 0, 0, 0, 0, 0, 0, 0, 0, 0, 0, 0, 0, 0, 0, 0, 0, 0, 0, 0, 0, 0, 0, 0, 0, 0]),\n",
       "        list([0, 0, 0, 0, 0, 1, 0])],\n",
       "       [list([0, 0, 0, 0, 0, 0, 0, 0, 0, 0, 0, 0, 0, 0, 1, 0, 0, 0, 0, 0, 0, 0, 0, 0, 0, 0, 0, 0, 0, 0, 0, 0, 0, 0, 0, 0, 0, 0, 0, 0, 0, 0, 0, 0, 0, 0, 0, 0, 0, 0, 0, 0, 0, 0, 0, 0, 0, 0, 0]),\n",
       "        list([0, 0, 0, 1, 0, 0, 0])],\n",
       "       [list([0, 0, 0, 0, 0, 0, 0, 0, 0, 1, 0, 0, 0, 0, 0, 0, 0, 0, 0, 0, 0, 0, 0, 0, 0, 0, 0, 0, 0, 0, 0, 0, 0, 0, 0, 0, 0, 0, 0, 0, 0, 0, 0, 0, 0, 0, 0, 0, 0, 0, 0, 0, 0, 0, 0, 0, 0, 0, 0]),\n",
       "        list([0, 0, 1, 0, 0, 0, 0])],\n",
       "       [list([0, 0, 0, 0, 0, 0, 0, 0, 0, 0, 0, 0, 0, 0, 0, 0, 0, 0, 0, 0, 0, 0, 0, 0, 0, 0, 0, 0, 0, 0, 0, 0, 0, 0, 0, 0, 0, 0, 0, 0, 0, 0, 0, 0, 0, 0, 0, 0, 0, 0, 0, 0, 0, 0, 0, 0, 0, 0, 0]),\n",
       "        list([0, 1, 0, 0, 0, 0, 0])],\n",
       "       [list([0, 0, 0, 0, 0, 0, 0, 0, 0, 0, 0, 0, 0, 0, 0, 0, 0, 0, 0, 0, 0, 0, 0, 0, 0, 0, 0, 0, 0, 0, 0, 0, 0, 0, 0, 0, 0, 0, 0, 0, 0, 0, 0, 0, 0, 0, 0, 0, 0, 0, 0, 0, 0, 0, 0, 0, 0, 0, 0]),\n",
       "        list([0, 0, 0, 1, 0, 0, 0])],\n",
       "       [list([0, 0, 0, 0, 0, 0, 0, 0, 0, 0, 0, 0, 0, 0, 0, 0, 0, 0, 0, 0, 0, 0, 0, 0, 0, 0, 0, 0, 0, 0, 0, 0, 0, 0, 0, 0, 0, 0, 0, 0, 0, 0, 0, 0, 0, 0, 0, 0, 0, 0, 0, 0, 0, 0, 0, 0, 0, 0, 0]),\n",
       "        list([0, 0, 0, 0, 1, 0, 0])],\n",
       "       [list([0, 0, 0, 0, 0, 0, 0, 0, 0, 0, 0, 0, 0, 0, 0, 0, 0, 0, 0, 0, 0, 0, 0, 0, 0, 0, 0, 0, 0, 0, 0, 0, 0, 0, 0, 0, 0, 0, 0, 0, 0, 0, 0, 0, 0, 0, 0, 0, 0, 0, 0, 0, 0, 0, 0, 0, 0, 0, 0]),\n",
       "        list([1, 0, 0, 0, 0, 0, 0])],\n",
       "       [list([0, 0, 0, 0, 0, 0, 0, 0, 0, 0, 0, 0, 0, 0, 0, 0, 0, 0, 0, 0, 0, 0, 0, 0, 1, 0, 0, 0, 0, 0, 0, 0, 0, 0, 0, 0, 0, 0, 0, 0, 0, 0, 0, 0, 0, 0, 0, 0, 0, 0, 0, 0, 0, 0, 0, 0, 0, 0, 0]),\n",
       "        list([0, 0, 0, 1, 0, 0, 0])],\n",
       "       [list([0, 0, 0, 0, 0, 0, 0, 0, 0, 0, 0, 0, 0, 0, 0, 0, 0, 0, 0, 0, 0, 0, 0, 0, 0, 0, 0, 0, 0, 0, 0, 0, 0, 0, 0, 0, 0, 0, 0, 0, 0, 0, 0, 0, 0, 0, 0, 0, 0, 0, 0, 0, 0, 0, 0, 0, 0, 0, 0]),\n",
       "        list([0, 0, 0, 0, 0, 1, 0])],\n",
       "       [list([0, 0, 0, 0, 0, 0, 0, 0, 0, 0, 0, 0, 0, 0, 0, 0, 0, 0, 0, 0, 0, 0, 0, 0, 0, 0, 0, 0, 0, 0, 0, 0, 0, 0, 0, 0, 0, 0, 0, 0, 0, 0, 0, 0, 0, 0, 0, 0, 0, 1, 1, 0, 0, 0, 0, 0, 0, 0, 0]),\n",
       "        list([0, 0, 0, 1, 0, 0, 0])],\n",
       "       [list([0, 0, 0, 0, 0, 0, 0, 0, 0, 0, 0, 0, 0, 0, 0, 0, 0, 0, 0, 0, 0, 0, 0, 0, 0, 0, 0, 0, 0, 0, 0, 0, 0, 0, 0, 0, 0, 0, 0, 0, 0, 0, 0, 0, 0, 0, 0, 0, 0, 0, 0, 0, 0, 0, 0, 0, 0, 0, 0]),\n",
       "        list([0, 0, 0, 0, 0, 1, 0])],\n",
       "       [list([0, 0, 0, 0, 0, 0, 0, 0, 0, 0, 0, 0, 0, 0, 0, 0, 0, 0, 0, 0, 0, 0, 0, 0, 0, 1, 0, 0, 1, 1, 0, 0, 0, 0, 0, 0, 0, 0, 0, 0, 0, 0, 0, 0, 0, 0, 0, 0, 0, 0, 0, 0, 0, 0, 0, 0, 0, 0, 0]),\n",
       "        list([0, 0, 0, 0, 1, 0, 0])],\n",
       "       [list([0, 0, 0, 0, 0, 0, 0, 0, 0, 0, 0, 0, 0, 0, 0, 0, 0, 0, 0, 0, 0, 0, 0, 0, 0, 0, 0, 0, 0, 0, 0, 0, 0, 0, 0, 0, 0, 0, 1, 1, 0, 0, 0, 0, 0, 0, 0, 0, 0, 0, 0, 0, 0, 0, 0, 0, 0, 0, 0]),\n",
       "        list([0, 0, 0, 0, 0, 1, 0])],\n",
       "       [list([0, 0, 0, 0, 0, 0, 0, 0, 0, 0, 0, 0, 0, 0, 0, 0, 0, 0, 0, 0, 0, 0, 0, 0, 0, 0, 0, 0, 0, 0, 0, 0, 0, 0, 0, 0, 0, 0, 0, 0, 0, 0, 0, 0, 0, 0, 0, 0, 0, 0, 0, 0, 0, 0, 0, 0, 0, 0, 1]),\n",
       "        list([0, 0, 0, 1, 0, 0, 0])],\n",
       "       [list([0, 0, 0, 0, 0, 0, 0, 0, 0, 0, 0, 0, 0, 0, 0, 0, 0, 0, 0, 0, 0, 1, 1, 0, 0, 0, 0, 0, 0, 0, 0, 0, 0, 0, 0, 0, 0, 0, 0, 0, 0, 0, 0, 0, 0, 0, 0, 0, 0, 0, 0, 0, 0, 0, 0, 0, 0, 0, 0]),\n",
       "        list([0, 0, 0, 0, 0, 0, 1])],\n",
       "       [list([0, 0, 0, 0, 0, 0, 0, 0, 0, 0, 0, 0, 0, 0, 0, 0, 0, 0, 0, 0, 1, 0, 0, 0, 0, 0, 0, 0, 0, 0, 0, 0, 0, 0, 0, 0, 0, 0, 0, 0, 0, 0, 0, 0, 0, 0, 0, 0, 0, 0, 0, 0, 0, 0, 0, 0, 0, 0, 0]),\n",
       "        list([0, 0, 0, 1, 0, 0, 0])],\n",
       "       [list([0, 0, 0, 0, 0, 0, 0, 0, 0, 0, 0, 0, 1, 0, 0, 0, 0, 0, 0, 0, 0, 0, 0, 0, 0, 0, 0, 0, 0, 0, 0, 0, 0, 0, 0, 0, 0, 0, 0, 0, 0, 0, 0, 0, 0, 0, 0, 0, 0, 0, 0, 0, 0, 0, 0, 0, 0, 0, 0]),\n",
       "        list([0, 1, 0, 0, 0, 0, 0])],\n",
       "       [list([0, 0, 0, 0, 0, 0, 0, 0, 0, 0, 0, 0, 0, 0, 0, 0, 0, 0, 0, 0, 0, 0, 0, 0, 0, 0, 0, 0, 0, 0, 0, 0, 0, 0, 0, 0, 0, 0, 0, 0, 0, 0, 0, 0, 0, 0, 1, 1, 0, 0, 0, 0, 0, 0, 0, 0, 0, 0, 0]),\n",
       "        list([0, 0, 0, 0, 0, 0, 1])],\n",
       "       [list([0, 0, 0, 0, 0, 0, 0, 0, 0, 0, 0, 0, 0, 0, 0, 0, 0, 0, 0, 0, 0, 0, 0, 0, 0, 0, 0, 0, 0, 0, 0, 0, 0, 0, 0, 0, 0, 0, 0, 0, 0, 0, 0, 0, 0, 0, 0, 0, 0, 0, 0, 0, 0, 0, 0, 0, 0, 0, 0]),\n",
       "        list([0, 0, 0, 0, 0, 1, 0])],\n",
       "       [list([0, 0, 0, 0, 0, 0, 0, 0, 0, 1, 0, 0, 0, 0, 0, 0, 0, 0, 0, 0, 0, 0, 0, 0, 0, 0, 0, 0, 0, 0, 0, 0, 0, 0, 0, 0, 0, 0, 0, 0, 0, 0, 0, 0, 0, 0, 0, 0, 0, 0, 0, 0, 0, 0, 0, 0, 0, 0, 0]),\n",
       "        list([0, 0, 1, 0, 0, 0, 0])],\n",
       "       [list([0, 0, 0, 0, 0, 0, 0, 0, 0, 0, 0, 0, 0, 0, 0, 0, 0, 0, 0, 0, 0, 0, 0, 0, 0, 0, 0, 0, 0, 0, 0, 0, 0, 0, 0, 0, 0, 0, 0, 0, 0, 0, 0, 0, 0, 0, 0, 0, 0, 0, 0, 0, 0, 0, 0, 0, 0, 0, 0]),\n",
       "        list([1, 0, 0, 0, 0, 0, 0])],\n",
       "       [list([0, 0, 0, 0, 0, 0, 0, 0, 0, 0, 0, 0, 0, 0, 0, 0, 0, 0, 0, 0, 0, 0, 0, 0, 0, 1, 0, 0, 1, 1, 0, 0, 0, 0, 0, 0, 0, 0, 0, 0, 0, 0, 0, 0, 0, 0, 0, 0, 0, 0, 0, 0, 0, 0, 0, 0, 0, 0, 0]),\n",
       "        list([0, 0, 0, 0, 1, 0, 0])],\n",
       "       [list([0, 0, 0, 0, 0, 0, 0, 0, 0, 0, 0, 0, 0, 0, 0, 0, 0, 0, 0, 0, 0, 0, 0, 0, 0, 0, 0, 0, 0, 0, 0, 1, 0, 0, 0, 0, 0, 0, 0, 0, 0, 0, 0, 0, 0, 0, 0, 0, 0, 0, 0, 0, 0, 0, 0, 0, 0, 0, 0]),\n",
       "        list([0, 0, 1, 0, 0, 0, 0])],\n",
       "       [list([0, 0, 0, 0, 0, 0, 0, 0, 0, 0, 0, 0, 1, 0, 0, 0, 0, 0, 0, 0, 0, 0, 0, 0, 0, 0, 0, 0, 0, 0, 0, 0, 0, 0, 0, 0, 0, 0, 0, 0, 0, 0, 0, 0, 0, 0, 0, 0, 0, 0, 0, 0, 0, 0, 0, 0, 0, 0, 0]),\n",
       "        list([0, 1, 0, 0, 0, 0, 0])],\n",
       "       [list([0, 0, 0, 0, 0, 0, 0, 0, 0, 0, 0, 0, 0, 0, 0, 0, 0, 0, 0, 0, 0, 0, 0, 0, 0, 0, 0, 0, 0, 0, 0, 0, 0, 0, 0, 0, 0, 0, 1, 1, 0, 0, 0, 0, 0, 0, 0, 0, 0, 0, 0, 0, 0, 0, 0, 0, 0, 0, 0]),\n",
       "        list([0, 1, 0, 0, 0, 0, 0])]], dtype=object)"
      ]
     },
     "execution_count": 7,
     "metadata": {},
     "output_type": "execute_result"
    }
   ],
   "source": [
    "random.shuffle(training)\n",
    "training = np.array(training)\n",
    "training"
   ]
  },
  {
   "cell_type": "markdown",
   "metadata": {
    "id": "mL8CvwffnYgk"
   },
   "source": [
    "---\n",
    "\n",
    "> ### |> ***Train Model***\n",
    "      Neural Network consists of (3 layers)"
   ]
  },
  {
   "cell_type": "code",
   "execution_count": 8,
   "metadata": {
    "id": "cwv70KxkNmbc"
   },
   "outputs": [],
   "source": [
    "train_x = list(training[:, 0])\n",
    "train_y = list(training[:, 1])\n",
    "\n",
    "sgd = SGD(learning_rate=0.01, decay=1e-6, momentum=0.9, nesterov=True)"
   ]
  },
  {
   "cell_type": "code",
   "execution_count": 9,
   "metadata": {
    "id": "nd2NnU-fNzKc"
   },
   "outputs": [],
   "source": [
    "model = Sequential()\n",
    "model.add(Dense(128, input_shape=(len(train_x[0]), ), activation='relu'))\n",
    "model.add(Dropout(0.5))\n",
    "model.add(Dense(64, activation='relu'))\n",
    "model.add(Dropout(0.5))\n",
    "model.add(Dense(len(train_y[0]), activation='softmax'))"
   ]
  },
  {
   "cell_type": "code",
   "execution_count": null,
   "metadata": {
    "id": "v4sLm_ozOokf",
    "scrolled": false
   },
   "outputs": [
    {
     "name": "stdout",
     "output_type": "stream",
     "text": [
      "Epoch 1/250\n",
      "12/12 [==============================] - 1s 2ms/step - loss: 1.9960 - accuracy: 0.0882\n",
      "Epoch 2/250\n",
      "12/12 [==============================] - 0s 2ms/step - loss: 1.9348 - accuracy: 0.1471\n",
      "Epoch 3/250\n",
      "12/12 [==============================] - 0s 3ms/step - loss: 1.8756 - accuracy: 0.2647\n",
      "Epoch 4/250\n",
      "12/12 [==============================] - 0s 3ms/step - loss: 1.7957 - accuracy: 0.3235\n",
      "Epoch 5/250\n",
      "12/12 [==============================] - 0s 3ms/step - loss: 1.7637 - accuracy: 0.3529\n",
      "Epoch 6/250\n",
      "12/12 [==============================] - 0s 3ms/step - loss: 1.7490 - accuracy: 0.2647\n",
      "Epoch 7/250\n",
      "12/12 [==============================] - 0s 3ms/step - loss: 1.6667 - accuracy: 0.4412\n",
      "Epoch 8/250\n",
      "12/12 [==============================] - 0s 3ms/step - loss: 1.5421 - accuracy: 0.5294\n",
      "Epoch 9/250\n",
      "12/12 [==============================] - 0s 2ms/step - loss: 1.6086 - accuracy: 0.3235\n",
      "Epoch 10/250\n",
      "12/12 [==============================] - 0s 2ms/step - loss: 1.3803 - accuracy: 0.6176\n",
      "Epoch 11/250\n",
      "12/12 [==============================] - 0s 3ms/step - loss: 1.4548 - accuracy: 0.5000\n",
      "Epoch 12/250\n",
      "12/12 [==============================] - 0s 3ms/step - loss: 1.4909 - accuracy: 0.5294\n",
      "Epoch 13/250\n",
      "12/12 [==============================] - 0s 3ms/step - loss: 1.3332 - accuracy: 0.5588\n",
      "Epoch 14/250\n",
      "12/12 [==============================] - 0s 2ms/step - loss: 1.4497 - accuracy: 0.4706\n",
      "Epoch 15/250\n",
      "12/12 [==============================] - 0s 3ms/step - loss: 1.3234 - accuracy: 0.5588\n",
      "Epoch 16/250\n",
      "12/12 [==============================] - 0s 3ms/step - loss: 1.1725 - accuracy: 0.6471\n",
      "Epoch 17/250\n",
      "12/12 [==============================] - 0s 3ms/step - loss: 1.2851 - accuracy: 0.5882\n",
      "Epoch 18/250\n",
      "12/12 [==============================] - 0s 3ms/step - loss: 1.1816 - accuracy: 0.5882\n",
      "Epoch 19/250\n",
      "12/12 [==============================] - 0s 3ms/step - loss: 1.0661 - accuracy: 0.5588\n",
      "Epoch 20/250\n",
      "12/12 [==============================] - 0s 2ms/step - loss: 1.1036 - accuracy: 0.5882\n",
      "Epoch 21/250\n",
      "12/12 [==============================] - 0s 2ms/step - loss: 1.1072 - accuracy: 0.5882\n",
      "Epoch 22/250\n",
      "12/12 [==============================] - 0s 2ms/step - loss: 1.0341 - accuracy: 0.5882\n",
      "Epoch 23/250\n",
      "12/12 [==============================] - 0s 2ms/step - loss: 0.9505 - accuracy: 0.6765\n",
      "Epoch 24/250\n",
      "12/12 [==============================] - 0s 3ms/step - loss: 1.1214 - accuracy: 0.5588\n",
      "Epoch 25/250\n",
      "12/12 [==============================] - 0s 3ms/step - loss: 0.9038 - accuracy: 0.6471\n",
      "Epoch 26/250\n",
      "12/12 [==============================] - 0s 2ms/step - loss: 1.0580 - accuracy: 0.6765\n",
      "Epoch 27/250\n",
      "12/12 [==============================] - 0s 3ms/step - loss: 0.7806 - accuracy: 0.7353\n",
      "Epoch 28/250\n",
      "12/12 [==============================] - 0s 3ms/step - loss: 0.9264 - accuracy: 0.6176\n",
      "Epoch 29/250\n",
      "12/12 [==============================] - 0s 3ms/step - loss: 0.6940 - accuracy: 0.7059\n",
      "Epoch 30/250\n",
      "12/12 [==============================] - 0s 3ms/step - loss: 0.8940 - accuracy: 0.6471\n",
      "Epoch 31/250\n",
      "12/12 [==============================] - 0s 3ms/step - loss: 0.8920 - accuracy: 0.6765\n",
      "Epoch 32/250\n",
      "12/12 [==============================] - 0s 3ms/step - loss: 0.8708 - accuracy: 0.6765\n",
      "Epoch 33/250\n",
      "12/12 [==============================] - 0s 3ms/step - loss: 0.9943 - accuracy: 0.5882\n",
      "Epoch 34/250\n",
      "12/12 [==============================] - 0s 3ms/step - loss: 0.7678 - accuracy: 0.6765\n",
      "Epoch 35/250\n",
      "12/12 [==============================] - 0s 3ms/step - loss: 0.7908 - accuracy: 0.6471\n",
      "Epoch 36/250\n",
      "12/12 [==============================] - 0s 3ms/step - loss: 0.7576 - accuracy: 0.6471\n",
      "Epoch 37/250\n",
      "12/12 [==============================] - 0s 2ms/step - loss: 0.9683 - accuracy: 0.5882\n",
      "Epoch 38/250\n",
      "12/12 [==============================] - 0s 3ms/step - loss: 0.9402 - accuracy: 0.6471\n",
      "Epoch 39/250\n",
      "12/12 [==============================] - 0s 3ms/step - loss: 0.7134 - accuracy: 0.7647\n",
      "Epoch 40/250\n",
      "12/12 [==============================] - 0s 3ms/step - loss: 0.8248 - accuracy: 0.7059\n",
      "Epoch 41/250\n",
      "12/12 [==============================] - 0s 3ms/step - loss: 0.8775 - accuracy: 0.7059\n",
      "Epoch 42/250\n",
      "12/12 [==============================] - 0s 3ms/step - loss: 0.7223 - accuracy: 0.7059\n",
      "Epoch 43/250\n",
      "12/12 [==============================] - 0s 3ms/step - loss: 0.8550 - accuracy: 0.6471\n",
      "Epoch 44/250\n",
      "12/12 [==============================] - 0s 3ms/step - loss: 0.7315 - accuracy: 0.7941\n",
      "Epoch 45/250\n",
      "12/12 [==============================] - 0s 3ms/step - loss: 0.7712 - accuracy: 0.7059\n",
      "Epoch 46/250\n",
      "12/12 [==============================] - 0s 3ms/step - loss: 0.7994 - accuracy: 0.6765\n",
      "Epoch 47/250\n",
      "12/12 [==============================] - 0s 3ms/step - loss: 0.7746 - accuracy: 0.6471\n",
      "Epoch 48/250\n",
      "12/12 [==============================] - 0s 2ms/step - loss: 0.7583 - accuracy: 0.6765\n",
      "Epoch 49/250\n",
      "12/12 [==============================] - 0s 3ms/step - loss: 0.7833 - accuracy: 0.7059\n",
      "Epoch 50/250\n",
      "12/12 [==============================] - 0s 3ms/step - loss: 0.7702 - accuracy: 0.6471\n",
      "Epoch 51/250\n",
      "12/12 [==============================] - 0s 3ms/step - loss: 0.7374 - accuracy: 0.7059\n",
      "Epoch 52/250\n",
      "12/12 [==============================] - 0s 3ms/step - loss: 0.7178 - accuracy: 0.7059\n",
      "Epoch 53/250\n",
      "12/12 [==============================] - 0s 3ms/step - loss: 0.6742 - accuracy: 0.7353\n",
      "Epoch 54/250\n",
      "12/12 [==============================] - 0s 3ms/step - loss: 0.7879 - accuracy: 0.7353\n",
      "Epoch 55/250\n",
      "12/12 [==============================] - 0s 3ms/step - loss: 0.6408 - accuracy: 0.6765\n",
      "Epoch 56/250\n",
      "12/12 [==============================] - 0s 3ms/step - loss: 0.7720 - accuracy: 0.6765\n",
      "Epoch 57/250\n",
      "12/12 [==============================] - 0s 3ms/step - loss: 0.7102 - accuracy: 0.6471\n",
      "Epoch 58/250\n",
      "12/12 [==============================] - 0s 4ms/step - loss: 0.6667 - accuracy: 0.7647\n",
      "Epoch 59/250\n",
      "12/12 [==============================] - 0s 4ms/step - loss: 0.7234 - accuracy: 0.7059\n",
      "Epoch 60/250\n",
      "12/12 [==============================] - 0s 3ms/step - loss: 0.8341 - accuracy: 0.7059\n",
      "Epoch 61/250\n",
      "12/12 [==============================] - 0s 3ms/step - loss: 0.6328 - accuracy: 0.7059\n",
      "Epoch 62/250\n",
      "12/12 [==============================] - 0s 3ms/step - loss: 0.6282 - accuracy: 0.7353\n",
      "Epoch 63/250\n",
      "12/12 [==============================] - 0s 4ms/step - loss: 0.6806 - accuracy: 0.7353\n",
      "Epoch 64/250\n",
      "12/12 [==============================] - 0s 3ms/step - loss: 0.7368 - accuracy: 0.7059\n",
      "Epoch 65/250\n",
      "12/12 [==============================] - 0s 2ms/step - loss: 0.6774 - accuracy: 0.7647\n",
      "Epoch 66/250\n",
      "12/12 [==============================] - 0s 3ms/step - loss: 0.7903 - accuracy: 0.6471\n",
      "Epoch 67/250\n",
      "12/12 [==============================] - 0s 3ms/step - loss: 0.8608 - accuracy: 0.6765\n",
      "Epoch 68/250\n",
      "12/12 [==============================] - 0s 3ms/step - loss: 0.7348 - accuracy: 0.7059\n",
      "Epoch 69/250\n",
      "12/12 [==============================] - 0s 3ms/step - loss: 0.7019 - accuracy: 0.7353\n",
      "Epoch 70/250\n",
      "12/12 [==============================] - 0s 3ms/step - loss: 0.7626 - accuracy: 0.7353\n",
      "Epoch 71/250\n",
      "12/12 [==============================] - 0s 3ms/step - loss: 0.6606 - accuracy: 0.7353\n",
      "Epoch 72/250\n",
      "12/12 [==============================] - 0s 3ms/step - loss: 0.7469 - accuracy: 0.6765\n",
      "Epoch 73/250\n",
      "12/12 [==============================] - 0s 3ms/step - loss: 0.7568 - accuracy: 0.7059\n",
      "Epoch 74/250\n",
      "12/12 [==============================] - 0s 3ms/step - loss: 0.6589 - accuracy: 0.7059\n",
      "Epoch 75/250\n",
      "12/12 [==============================] - 0s 3ms/step - loss: 0.7413 - accuracy: 0.7059\n",
      "Epoch 76/250\n",
      "12/12 [==============================] - 0s 3ms/step - loss: 0.6588 - accuracy: 0.7353\n",
      "Epoch 77/250\n",
      "12/12 [==============================] - 0s 3ms/step - loss: 0.7277 - accuracy: 0.7059\n"
     ]
    }
   ],
   "source": [
    "model.compile(loss='categorical_crossentropy', optimizer=sgd, metrics=['accuracy'])\n",
    "history = model.fit(np.array(train_x), np.array(train_y), epochs=250, batch_size=3)"
   ]
  },
  {
   "cell_type": "code",
   "execution_count": null,
   "metadata": {
    "id": "4ZZOm2L5PA5v"
   },
   "outputs": [],
   "source": [
    "model.save('chatbot-model.h5', history)\n",
    "print('Model \\\"chatbot-model.h5\\\" Saved')"
   ]
  },
  {
   "cell_type": "markdown",
   "metadata": {
    "id": "QqG04Cj_m_Mi"
   },
   "source": [
    "---\n",
    "\n",
    "> ### |> ***Predict Responses***"
   ]
  },
  {
   "cell_type": "code",
   "execution_count": null,
   "metadata": {},
   "outputs": [],
   "source": [
    "model = load_model('chatbot-model.h5')\n",
    "print('Model \\\"chatbot-model.h5\\\" Loaded')"
   ]
  },
  {
   "cell_type": "code",
   "execution_count": null,
   "metadata": {
    "id": "eLwZk5k3UnyB"
   },
   "outputs": [],
   "source": [
    "def clean_up_sentence(sentence):\n",
    "  sentence_words = nltk.word_tokenize(sentence)\n",
    "  sentence_words = [WordNetLemmatizer().lemmatize(word.lower()) for word in sentence_words]\n",
    "  return sentence_words"
   ]
  },
  {
   "cell_type": "code",
   "execution_count": null,
   "metadata": {
    "id": "HxchlhbRUvK_"
   },
   "outputs": [],
   "source": [
    "def bow(sentence, words, show_details=True):\n",
    "  sentence_words = clean_up_sentence(sentence)\n",
    "  bag=[0] *len(words)\n",
    "\n",
    "  for s in sentence_words:\n",
    "      for i, w in enumerate(words):\n",
    "          if w == s:\n",
    "              bag[i]=1\n",
    "              if show_details:\n",
    "                print(\"found in bag: %s\" % w)\n",
    "  return (np.array(bag))"
   ]
  },
  {
   "cell_type": "code",
   "execution_count": null,
   "metadata": {
    "id": "sl-Mvf_pUwz0"
   },
   "outputs": [],
   "source": [
    "def predict_class(sentence, model):\n",
    "  return_list = []\n",
    "  p = bow(sentence, words, show_details = False)\n",
    "  res = model.predict(np.array([p]))[0]\n",
    "  error_threshhold = 0.25\n",
    "  results = [[i, r] for i, r in enumerate(res) if r > error_threshhold]\n",
    "  results.sort(key = lambda x:x[1], reverse=True)\n",
    "\n",
    "  for r in results:\n",
    "      return_list.append({\"intent\": classes[r[0]], \"probability\": str(r[1])})\n",
    "  return return_list"
   ]
  },
  {
   "cell_type": "code",
   "execution_count": null,
   "metadata": {
    "id": "uz2GOLLjP21i"
   },
   "outputs": [],
   "source": [
    "def getResponse(ints, intents_json):\n",
    "  tag = ints[0]['intent']\n",
    "  list_of_intents = intents_json['intents']\n",
    "  for i in list_of_intents:\n",
    "      if(i['tag'] == tag):\n",
    "          result = random.choice(i['responses'])\n",
    "          break\n",
    "  return result"
   ]
  },
  {
   "cell_type": "code",
   "execution_count": null,
   "metadata": {
    "id": "FHRQSG01U3Hz"
   },
   "outputs": [],
   "source": [
    "def chatbot_response(text):\n",
    "  ints = predict_class(text, model)\n",
    "  res = getResponse(ints, intents)\n",
    "  return res"
   ]
  },
  {
   "cell_type": "markdown",
   "metadata": {
    "id": "ueiK4MoDmY4S"
   },
   "source": [
    "---\n",
    "\n",
    "> ### |> ***Graphical User Interface (GUI)***"
   ]
  },
  {
   "cell_type": "code",
   "execution_count": null,
   "metadata": {
    "id": "qLav3Kyyk2PB"
   },
   "outputs": [],
   "source": [
    "def send():\n",
    "  msg = EntryBox.get(\"1.0\", 'end-1c').strip()\n",
    "  EntryBox.delete(\"0.0\", END)\n",
    "\n",
    "  if msg != '':\n",
    "    ChatLog.config(state=NORMAL)\n",
    "    ChatLog.insert(END, \"You|> \" + msg + '\\n\\n')\n",
    "    ChatLog.config(foreground=\"#FDD428\", font=(\"Helvetica\", 12, 'bold' ))\n",
    "\n",
    "    res = chatbot_response(msg)\n",
    "    ChatLog.insert(END, \"Codeclause|>  \" + res + '\\n\\n')\n",
    "\n",
    "    ChatLog.config(state=DISABLED)\n",
    "    ChatLog.yview(END)"
   ]
  },
  {
   "cell_type": "code",
   "execution_count": null,
   "metadata": {
    "id": "u7xNRlxpQe1I"
   },
   "outputs": [],
   "source": [
    "base = Tk()\n",
    "base.title(\"ChatBot-CodeClause\")\n",
    "base.geometry(\"400x500\")\n",
    "base.resizable(width=FALSE, height=FALSE)\n",
    "\n",
    "ChatLog = Text(base, bd=0, bg=\"#002E5B\",height=10, width=100, font=\"Arial\",)\n",
    "ChatLog.config(state=DISABLED)\n",
    "\n",
    "scrollbar = Scrollbar(base, command=ChatLog.yview)\n",
    "ChatLog['yscrollcommand'] = scrollbar.set\n",
    "\n",
    "SendButton = Button(\n",
    "    base, bd=1,\n",
    "    font=(\"Verdana\", 12, 'bold'),\n",
    "    text=\"Send\", command=send,\n",
    "    width=10, height=3,\n",
    "    bg=\"#FDD428\", fg='#000000',\n",
    "    activebackground=\"#ececec\"\n",
    "    )\n",
    "\n",
    "EntryBox = Text(\n",
    "    base, bd=2,\n",
    "    font=\"Arial\",\n",
    "    width=29, height=3,\n",
    "    bg=\"white\",\n",
    "    )\n",
    "\n",
    "scrollbar.place(x=376, y=6, height=386)\n",
    "ChatLog.place(x=6, y=6, height=386, width=370)\n",
    "EntryBox.place(relheight=0.100, relwidth=0.77, relx=0.01, rely=0.80)\n",
    "SendButton.place(relx=0.79, rely=0.80, relheight=0.100, relwidth=0.20)\n",
    "\n",
    "base.mainloop()"
   ]
  }
 ],
 "metadata": {
  "colab": {
   "collapsed_sections": [
    "mL8CvwffnYgk",
    "QqG04Cj_m_Mi",
    "ueiK4MoDmY4S"
   ],
   "provenance": []
  },
  "kernelspec": {
   "display_name": "Python 3 (ipykernel)",
   "language": "python",
   "name": "python3"
  },
  "language_info": {
   "codemirror_mode": {
    "name": "ipython",
    "version": 3
   },
   "file_extension": ".py",
   "mimetype": "text/x-python",
   "name": "python",
   "nbconvert_exporter": "python",
   "pygments_lexer": "ipython3",
   "version": "3.9.12"
  }
 },
 "nbformat": 4,
 "nbformat_minor": 1
}
